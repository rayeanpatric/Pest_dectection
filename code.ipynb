from ultralytics import YOLO

# Load the YOLO model
model = YOLO("yolo11s.pt")  # Replace with your YOLO model checkpoint if needed

# Train the model on your custom dataset
train_results = model.train(
    data="data.yaml",  # Path to your custom dataset YAML file
    epochs=100,  # Number of training epochs
    imgsz=640,  # Image size (resolution) for training
    batch=128,  # Batch size for training
    device="0",  # Device to use, e.g., "0" for GPU or "cpu"
)

# Save the trained model as a .pt file
model.save("custom_yolo_model.pt")
print("Training complete. Model saved as 'custom_yolo_model.pt'.")
